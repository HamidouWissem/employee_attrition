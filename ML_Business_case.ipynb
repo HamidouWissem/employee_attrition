{
  "nbformat": 4,
  "nbformat_minor": 0,
  "metadata": {
    "colab": {
      "name": "ML_Business_case.ipynb",
      "version": "0.3.2",
      "views": {},
      "default_view": {},
      "provenance": [],
      "collapsed_sections": []
    },
    "kernelspec": {
      "name": "python2",
      "display_name": "Python 2"
    }
  },
  "cells": [
    {
      "metadata": {
        "id": "vxVkuajGLUs2",
        "colab_type": "text"
      },
      "cell_type": "markdown",
      "source": [
        "<Center><h3> Business Case : Employee Attrition </Center></h3>"
      ]
    },
    {
      "metadata": {
        "id": "eQgx1srZLUs3",
        "colab_type": "text"
      },
      "cell_type": "markdown",
      "source": [
        "### Import Section "
      ]
    },
    {
      "metadata": {
        "id": "ixOzUbxCLUs4",
        "colab_type": "code",
        "colab": {
          "autoexec": {
            "startup": false,
            "wait_interval": 0
          }
        }
      },
      "cell_type": "code",
      "source": [
        "import pandas as pd\n",
        "import numpy as np\n",
        "import matplotlib.pyplot as plt\n",
        "import io\n",
        "import seaborn as sns\n",
        "%matplotlib inline"
      ],
      "execution_count": 0,
      "outputs": []
    },
    {
      "metadata": {
        "id": "1Uc1mPgIOcgc",
        "colab_type": "code",
        "colab": {
          "autoexec": {
            "startup": false,
            "wait_interval": 0
          }
        }
      },
      "cell_type": "code",
      "source": [
        "#from google.colab import files\n",
        "#uploaded = files.upload()\n",
        "# Install the PyDrive wrapper & import libraries.\n",
        "# This only needs to be done once per notebook.\n",
        "!pip install -U -q PyDrive\n",
        "from pydrive.auth import GoogleAuth\n",
        "from pydrive.drive import GoogleDrive\n",
        "from google.colab import auth\n",
        "from oauth2client.client import GoogleCredentials\n",
        "\n",
        "auth.authenticate_user()\n",
        "gauth = GoogleAuth()\n",
        "gauth.credentials = GoogleCredentials.get_application_default()\n",
        "drive = GoogleDrive(gauth)"
      ],
      "execution_count": 0,
      "outputs": []
    },
    {
      "metadata": {
        "id": "Kr0fvM8D5-g9",
        "colab_type": "code",
        "colab": {
          "autoexec": {
            "startup": false,
            "wait_interval": 0
          }
        }
      },
      "cell_type": "code",
      "source": [
        "file_id = '1OgHMtT_iNQo2okFPDjVigCcNNi5C5sFG'\n",
        "downloaded = drive.CreateFile({'id': file_id})\n",
        "downloaded.GetContentFile('data_employee.csv')\n"
      ],
      "execution_count": 0,
      "outputs": []
    },
    {
      "metadata": {
        "id": "2mAiPAzlO6G0",
        "colab_type": "code",
        "colab": {
          "autoexec": {
            "startup": false,
            "wait_interval": 0
          },
          "output_extras": [
            {
              "item_id": 1
            }
          ],
          "base_uri": "https://localhost:8080/",
          "height": 224
        },
        "outputId": "45c59148-bcd4-45eb-cffc-bf0baffd43cd",
        "executionInfo": {
          "status": "ok",
          "timestamp": 1516994392385,
          "user_tz": -60,
          "elapsed": 2746,
          "user": {
            "displayName": "Itaf Ahmadi",
            "photoUrl": "//lh5.googleusercontent.com/-nwkVegVBxmM/AAAAAAAAAAI/AAAAAAAAATE/1ITc8WocK9s/s50-c-k-no/photo.jpg",
            "userId": "102636825862906512773"
          }
        }
      },
      "cell_type": "code",
      "source": [
        "#for fn in uploaded.keys():\n",
        " # print('User uploaded file \"{name}\" with length {length} bytes'.format(\n",
        "  #    name=fn, length=len(uploaded[fn])))\n",
        "\n",
        "!pip install -q xlrd\n",
        "\n",
        "import pandas as pd\n",
        "data = pd.read_csv('data_employee.csv', sep=';')\n",
        "data.head()"
      ],
      "execution_count": 5,
      "outputs": [
        {
          "output_type": "execute_result",
          "data": {
            "text/html": [
              "<div>\n",
              "<style scoped>\n",
              "    .dataframe tbody tr th:only-of-type {\n",
              "        vertical-align: middle;\n",
              "    }\n",
              "\n",
              "    .dataframe tbody tr th {\n",
              "        vertical-align: top;\n",
              "    }\n",
              "\n",
              "    .dataframe thead th {\n",
              "        text-align: right;\n",
              "    }\n",
              "</style>\n",
              "<table border=\"1\" class=\"dataframe\">\n",
              "  <thead>\n",
              "    <tr style=\"text-align: right;\">\n",
              "      <th></th>\n",
              "      <th>name</th>\n",
              "      <th>satisfaction_level</th>\n",
              "      <th>last_evaluation</th>\n",
              "      <th>number_projects</th>\n",
              "      <th>average_monthly_hours</th>\n",
              "      <th>time_spent_company</th>\n",
              "      <th>work_accident</th>\n",
              "      <th>left</th>\n",
              "      <th>promotion_last_5_years</th>\n",
              "      <th>department</th>\n",
              "      <th>salary</th>\n",
              "      <th>salary_level</th>\n",
              "    </tr>\n",
              "  </thead>\n",
              "  <tbody>\n",
              "    <tr>\n",
              "      <th>0</th>\n",
              "      <td>SMITH</td>\n",
              "      <td>0.38</td>\n",
              "      <td>0.53</td>\n",
              "      <td>2</td>\n",
              "      <td>157</td>\n",
              "      <td>3</td>\n",
              "      <td>0</td>\n",
              "      <td>1</td>\n",
              "      <td>0</td>\n",
              "      <td>sales</td>\n",
              "      <td>low</td>\n",
              "      <td>1</td>\n",
              "    </tr>\n",
              "    <tr>\n",
              "      <th>1</th>\n",
              "      <td>JOHNSON</td>\n",
              "      <td>0.80</td>\n",
              "      <td>0.86</td>\n",
              "      <td>5</td>\n",
              "      <td>262</td>\n",
              "      <td>6</td>\n",
              "      <td>0</td>\n",
              "      <td>1</td>\n",
              "      <td>0</td>\n",
              "      <td>sales</td>\n",
              "      <td>medium</td>\n",
              "      <td>2</td>\n",
              "    </tr>\n",
              "    <tr>\n",
              "      <th>2</th>\n",
              "      <td>WILLIAMS</td>\n",
              "      <td>0.11</td>\n",
              "      <td>0.88</td>\n",
              "      <td>7</td>\n",
              "      <td>272</td>\n",
              "      <td>4</td>\n",
              "      <td>0</td>\n",
              "      <td>1</td>\n",
              "      <td>0</td>\n",
              "      <td>sales</td>\n",
              "      <td>medium</td>\n",
              "      <td>2</td>\n",
              "    </tr>\n",
              "    <tr>\n",
              "      <th>3</th>\n",
              "      <td>BROWN</td>\n",
              "      <td>0.72</td>\n",
              "      <td>0.87</td>\n",
              "      <td>5</td>\n",
              "      <td>223</td>\n",
              "      <td>5</td>\n",
              "      <td>0</td>\n",
              "      <td>1</td>\n",
              "      <td>0</td>\n",
              "      <td>sales</td>\n",
              "      <td>low</td>\n",
              "      <td>1</td>\n",
              "    </tr>\n",
              "    <tr>\n",
              "      <th>4</th>\n",
              "      <td>JONES</td>\n",
              "      <td>0.37</td>\n",
              "      <td>0.52</td>\n",
              "      <td>2</td>\n",
              "      <td>159</td>\n",
              "      <td>3</td>\n",
              "      <td>0</td>\n",
              "      <td>1</td>\n",
              "      <td>0</td>\n",
              "      <td>sales</td>\n",
              "      <td>low</td>\n",
              "      <td>1</td>\n",
              "    </tr>\n",
              "  </tbody>\n",
              "</table>\n",
              "</div>"
            ],
            "text/plain": [
              "       name  satisfaction_level  last_evaluation  number_projects  \\\n",
              "0     SMITH                0.38             0.53                2   \n",
              "1   JOHNSON                0.80             0.86                5   \n",
              "2  WILLIAMS                0.11             0.88                7   \n",
              "3     BROWN                0.72             0.87                5   \n",
              "4     JONES                0.37             0.52                2   \n",
              "\n",
              "   average_monthly_hours  time_spent_company  work_accident  left  \\\n",
              "0                    157                   3              0     1   \n",
              "1                    262                   6              0     1   \n",
              "2                    272                   4              0     1   \n",
              "3                    223                   5              0     1   \n",
              "4                    159                   3              0     1   \n",
              "\n",
              "   promotion_last_5_years department  salary  salary_level  \n",
              "0                       0      sales     low             1  \n",
              "1                       0      sales  medium             2  \n",
              "2                       0      sales  medium             2  \n",
              "3                       0      sales     low             1  \n",
              "4                       0      sales     low             1  "
            ]
          },
          "metadata": {
            "tags": []
          },
          "execution_count": 5
        }
      ]
    },
    {
      "metadata": {
        "id": "-nOaMt3L5_Ro",
        "colab_type": "code",
        "colab": {
          "autoexec": {
            "startup": false,
            "wait_interval": 0
          },
          "output_extras": [
            {
              "item_id": 1
            }
          ],
          "base_uri": "https://localhost:8080/",
          "height": 164
        },
        "outputId": "07764f98-2c95-47e9-a276-bd65234ad85b",
        "executionInfo": {
          "status": "error",
          "timestamp": 1516994731333,
          "user_tz": -60,
          "elapsed": 493,
          "user": {
            "displayName": "Itaf Ahmadi",
            "photoUrl": "//lh5.googleusercontent.com/-nwkVegVBxmM/AAAAAAAAAAI/AAAAAAAAATE/1ITc8WocK9s/s50-c-k-no/photo.jpg",
            "userId": "102636825862906512773"
          }
        }
      },
      "cell_type": "code",
      "source": [
        "np.unique(data['department']).count()"
      ],
      "execution_count": 7,
      "outputs": [
        {
          "output_type": "error",
          "ename": "AttributeError",
          "evalue": "ignored",
          "traceback": [
            "\u001b[0;31m\u001b[0m",
            "\u001b[0;31mAttributeError\u001b[0mTraceback (most recent call last)",
            "\u001b[0;32m<ipython-input-7-3dda8a4476fd>\u001b[0m in \u001b[0;36m<module>\u001b[0;34m()\u001b[0m\n\u001b[0;32m----> 1\u001b[0;31m \u001b[0mnp\u001b[0m\u001b[0;34m.\u001b[0m\u001b[0munique\u001b[0m\u001b[0;34m(\u001b[0m\u001b[0mdata\u001b[0m\u001b[0;34m[\u001b[0m\u001b[0;34m'department'\u001b[0m\u001b[0;34m]\u001b[0m\u001b[0;34m)\u001b[0m\u001b[0;34m.\u001b[0m\u001b[0mcount\u001b[0m\u001b[0;34m(\u001b[0m\u001b[0;34m)\u001b[0m\u001b[0;34m\u001b[0m\u001b[0m\n\u001b[0m",
            "\u001b[0;31mAttributeError\u001b[0m: 'numpy.ndarray' object has no attribute 'count'"
          ]
        }
      ]
    },
    {
      "metadata": {
        "id": "aIgv6VyYLUs6",
        "colab_type": "text"
      },
      "cell_type": "markdown",
      "source": [
        "## Exploratory data analysis"
      ]
    },
    {
      "metadata": {
        "id": "_HdKwMcZLUs7",
        "colab_type": "code",
        "colab": {
          "autoexec": {
            "startup": false,
            "wait_interval": 0
          }
        }
      },
      "cell_type": "code",
      "source": [
        "#filename = 'data_employee.csv'\n",
        "#data = pd.read_csv(io.StringIO(uploaded[filename].decode('utf-8')), sep=';')\n",
        "#data = pd.read_csv(filename, sep=';')\n",
        "#data.head(5)"
      ],
      "execution_count": 0,
      "outputs": []
    },
    {
      "metadata": {
        "id": "7Pu3TGnwLUtA",
        "colab_type": "code",
        "colab": {
          "autoexec": {
            "startup": false,
            "wait_interval": 0
          },
          "output_extras": [
            {
              "item_id": 1
            }
          ],
          "base_uri": "https://localhost:8080/",
          "height": 251
        },
        "outputId": "c19c696b-58c9-4776-8b18-95d1d3a20d79",
        "executionInfo": {
          "status": "ok",
          "timestamp": 1516981962015,
          "user_tz": -60,
          "elapsed": 517,
          "user": {
            "displayName": "Ahmed Ferjani",
            "photoUrl": "//lh6.googleusercontent.com/-pyeEM_6C85I/AAAAAAAAAAI/AAAAAAAAAEs/R0jczjl_27c/s50-c-k-no/photo.jpg",
            "userId": "106742088330707199397"
          }
        }
      },
      "cell_type": "code",
      "source": [
        "data.dtypes"
      ],
      "execution_count": 5,
      "outputs": [
        {
          "output_type": "execute_result",
          "data": {
            "text/plain": [
              "name                       object\n",
              "satisfaction_level        float64\n",
              "last_evaluation           float64\n",
              "number_projects             int64\n",
              "average_monthly_hours       int64\n",
              "time_spent_company          int64\n",
              "work_accident               int64\n",
              "left                        int64\n",
              "promotion_last_5_years      int64\n",
              "department                 object\n",
              "salary                     object\n",
              "salary_level                int64\n",
              "dtype: object"
            ]
          },
          "metadata": {
            "tags": []
          },
          "execution_count": 5
        }
      ]
    },
    {
      "metadata": {
        "id": "QQWZfe6HYbV6",
        "colab_type": "code",
        "colab": {
          "autoexec": {
            "startup": false,
            "wait_interval": 0
          },
          "output_extras": [
            {
              "item_id": 1
            }
          ],
          "base_uri": "https://localhost:8080/",
          "height": 297
        },
        "outputId": "e1e2d87d-d796-4758-f8b1-85ab8e59eb69",
        "executionInfo": {
          "status": "ok",
          "timestamp": 1516981964289,
          "user_tz": -60,
          "elapsed": 509,
          "user": {
            "displayName": "Ahmed Ferjani",
            "photoUrl": "//lh6.googleusercontent.com/-pyeEM_6C85I/AAAAAAAAAAI/AAAAAAAAAEs/R0jczjl_27c/s50-c-k-no/photo.jpg",
            "userId": "106742088330707199397"
          }
        }
      },
      "cell_type": "code",
      "source": [
        "data.describe()"
      ],
      "execution_count": 6,
      "outputs": [
        {
          "output_type": "execute_result",
          "data": {
            "text/html": [
              "<div>\n",
              "<style scoped>\n",
              "    .dataframe tbody tr th:only-of-type {\n",
              "        vertical-align: middle;\n",
              "    }\n",
              "\n",
              "    .dataframe tbody tr th {\n",
              "        vertical-align: top;\n",
              "    }\n",
              "\n",
              "    .dataframe thead th {\n",
              "        text-align: right;\n",
              "    }\n",
              "</style>\n",
              "<table border=\"1\" class=\"dataframe\">\n",
              "  <thead>\n",
              "    <tr style=\"text-align: right;\">\n",
              "      <th></th>\n",
              "      <th>satisfaction_level</th>\n",
              "      <th>last_evaluation</th>\n",
              "      <th>number_projects</th>\n",
              "      <th>average_monthly_hours</th>\n",
              "      <th>time_spent_company</th>\n",
              "      <th>work_accident</th>\n",
              "      <th>left</th>\n",
              "      <th>promotion_last_5_years</th>\n",
              "      <th>salary_level</th>\n",
              "    </tr>\n",
              "  </thead>\n",
              "  <tbody>\n",
              "    <tr>\n",
              "      <th>count</th>\n",
              "      <td>14999.000000</td>\n",
              "      <td>14999.000000</td>\n",
              "      <td>14999.000000</td>\n",
              "      <td>14999.000000</td>\n",
              "      <td>14999.000000</td>\n",
              "      <td>14999.000000</td>\n",
              "      <td>14999.000000</td>\n",
              "      <td>14999.000000</td>\n",
              "      <td>14999.000000</td>\n",
              "    </tr>\n",
              "    <tr>\n",
              "      <th>mean</th>\n",
              "      <td>0.612834</td>\n",
              "      <td>0.716102</td>\n",
              "      <td>3.803054</td>\n",
              "      <td>201.050337</td>\n",
              "      <td>3.498233</td>\n",
              "      <td>0.144610</td>\n",
              "      <td>0.238083</td>\n",
              "      <td>0.021268</td>\n",
              "      <td>1.594706</td>\n",
              "    </tr>\n",
              "    <tr>\n",
              "      <th>std</th>\n",
              "      <td>0.248631</td>\n",
              "      <td>0.171169</td>\n",
              "      <td>1.232592</td>\n",
              "      <td>49.943099</td>\n",
              "      <td>1.460136</td>\n",
              "      <td>0.351719</td>\n",
              "      <td>0.425924</td>\n",
              "      <td>0.144281</td>\n",
              "      <td>0.637183</td>\n",
              "    </tr>\n",
              "    <tr>\n",
              "      <th>min</th>\n",
              "      <td>0.090000</td>\n",
              "      <td>0.360000</td>\n",
              "      <td>2.000000</td>\n",
              "      <td>96.000000</td>\n",
              "      <td>2.000000</td>\n",
              "      <td>0.000000</td>\n",
              "      <td>0.000000</td>\n",
              "      <td>0.000000</td>\n",
              "      <td>1.000000</td>\n",
              "    </tr>\n",
              "    <tr>\n",
              "      <th>25%</th>\n",
              "      <td>0.440000</td>\n",
              "      <td>0.560000</td>\n",
              "      <td>3.000000</td>\n",
              "      <td>156.000000</td>\n",
              "      <td>3.000000</td>\n",
              "      <td>0.000000</td>\n",
              "      <td>0.000000</td>\n",
              "      <td>0.000000</td>\n",
              "      <td>1.000000</td>\n",
              "    </tr>\n",
              "    <tr>\n",
              "      <th>50%</th>\n",
              "      <td>0.640000</td>\n",
              "      <td>0.720000</td>\n",
              "      <td>4.000000</td>\n",
              "      <td>200.000000</td>\n",
              "      <td>3.000000</td>\n",
              "      <td>0.000000</td>\n",
              "      <td>0.000000</td>\n",
              "      <td>0.000000</td>\n",
              "      <td>2.000000</td>\n",
              "    </tr>\n",
              "    <tr>\n",
              "      <th>75%</th>\n",
              "      <td>0.820000</td>\n",
              "      <td>0.870000</td>\n",
              "      <td>5.000000</td>\n",
              "      <td>245.000000</td>\n",
              "      <td>4.000000</td>\n",
              "      <td>0.000000</td>\n",
              "      <td>0.000000</td>\n",
              "      <td>0.000000</td>\n",
              "      <td>2.000000</td>\n",
              "    </tr>\n",
              "    <tr>\n",
              "      <th>max</th>\n",
              "      <td>1.000000</td>\n",
              "      <td>1.000000</td>\n",
              "      <td>7.000000</td>\n",
              "      <td>310.000000</td>\n",
              "      <td>10.000000</td>\n",
              "      <td>1.000000</td>\n",
              "      <td>1.000000</td>\n",
              "      <td>1.000000</td>\n",
              "      <td>3.000000</td>\n",
              "    </tr>\n",
              "  </tbody>\n",
              "</table>\n",
              "</div>"
            ],
            "text/plain": [
              "       satisfaction_level  last_evaluation  number_projects  \\\n",
              "count        14999.000000     14999.000000     14999.000000   \n",
              "mean             0.612834         0.716102         3.803054   \n",
              "std              0.248631         0.171169         1.232592   \n",
              "min              0.090000         0.360000         2.000000   \n",
              "25%              0.440000         0.560000         3.000000   \n",
              "50%              0.640000         0.720000         4.000000   \n",
              "75%              0.820000         0.870000         5.000000   \n",
              "max              1.000000         1.000000         7.000000   \n",
              "\n",
              "       average_monthly_hours  time_spent_company  work_accident          left  \\\n",
              "count           14999.000000        14999.000000   14999.000000  14999.000000   \n",
              "mean              201.050337            3.498233       0.144610      0.238083   \n",
              "std                49.943099            1.460136       0.351719      0.425924   \n",
              "min                96.000000            2.000000       0.000000      0.000000   \n",
              "25%               156.000000            3.000000       0.000000      0.000000   \n",
              "50%               200.000000            3.000000       0.000000      0.000000   \n",
              "75%               245.000000            4.000000       0.000000      0.000000   \n",
              "max               310.000000           10.000000       1.000000      1.000000   \n",
              "\n",
              "       promotion_last_5_years  salary_level  \n",
              "count            14999.000000  14999.000000  \n",
              "mean                 0.021268      1.594706  \n",
              "std                  0.144281      0.637183  \n",
              "min                  0.000000      1.000000  \n",
              "25%                  0.000000      1.000000  \n",
              "50%                  0.000000      2.000000  \n",
              "75%                  0.000000      2.000000  \n",
              "max                  1.000000      3.000000  "
            ]
          },
          "metadata": {
            "tags": []
          },
          "execution_count": 6
        }
      ]
    },
    {
      "metadata": {
        "id": "pxrZAnTVQ9kJ",
        "colab_type": "code",
        "colab": {
          "autoexec": {
            "startup": false,
            "wait_interval": 0
          },
          "output_extras": [
            {
              "item_id": 1
            }
          ],
          "base_uri": "https://localhost:8080/",
          "height": 251
        },
        "outputId": "3bb103eb-97e9-464e-e086-797333bbb2f7",
        "executionInfo": {
          "status": "ok",
          "timestamp": 1516981968275,
          "user_tz": -60,
          "elapsed": 430,
          "user": {
            "displayName": "Ahmed Ferjani",
            "photoUrl": "//lh6.googleusercontent.com/-pyeEM_6C85I/AAAAAAAAAAI/AAAAAAAAAEs/R0jczjl_27c/s50-c-k-no/photo.jpg",
            "userId": "106742088330707199397"
          }
        }
      },
      "cell_type": "code",
      "source": [
        "data.count()"
      ],
      "execution_count": 7,
      "outputs": [
        {
          "output_type": "execute_result",
          "data": {
            "text/plain": [
              "name                      14998\n",
              "satisfaction_level        14999\n",
              "last_evaluation           14999\n",
              "number_projects           14999\n",
              "average_monthly_hours     14999\n",
              "time_spent_company        14999\n",
              "work_accident             14999\n",
              "left                      14999\n",
              "promotion_last_5_years    14999\n",
              "department                14999\n",
              "salary                    14999\n",
              "salary_level              14999\n",
              "dtype: int64"
            ]
          },
          "metadata": {
            "tags": []
          },
          "execution_count": 7
        }
      ]
    },
    {
      "metadata": {
        "id": "XjB_zldsQ_kC",
        "colab_type": "code",
        "colab": {
          "autoexec": {
            "startup": false,
            "wait_interval": 0
          },
          "output_extras": [
            {
              "item_id": 1
            }
          ],
          "base_uri": "https://localhost:8080/",
          "height": 251
        },
        "outputId": "507ea474-eb90-43b0-c845-27e4719f9a67",
        "executionInfo": {
          "status": "ok",
          "timestamp": 1516981971520,
          "user_tz": -60,
          "elapsed": 480,
          "user": {
            "displayName": "Ahmed Ferjani",
            "photoUrl": "//lh6.googleusercontent.com/-pyeEM_6C85I/AAAAAAAAAAI/AAAAAAAAAEs/R0jczjl_27c/s50-c-k-no/photo.jpg",
            "userId": "106742088330707199397"
          }
        }
      },
      "cell_type": "code",
      "source": [
        "# counting missing values \n",
        "data.isnull().sum()"
      ],
      "execution_count": 8,
      "outputs": [
        {
          "output_type": "execute_result",
          "data": {
            "text/plain": [
              "name                      1\n",
              "satisfaction_level        0\n",
              "last_evaluation           0\n",
              "number_projects           0\n",
              "average_monthly_hours     0\n",
              "time_spent_company        0\n",
              "work_accident             0\n",
              "left                      0\n",
              "promotion_last_5_years    0\n",
              "department                0\n",
              "salary                    0\n",
              "salary_level              0\n",
              "dtype: int64"
            ]
          },
          "metadata": {
            "tags": []
          },
          "execution_count": 8
        }
      ]
    },
    {
      "metadata": {
        "id": "eGktZKEfRBdH",
        "colab_type": "code",
        "colab": {
          "autoexec": {
            "startup": false,
            "wait_interval": 0
          },
          "output_extras": [
            {
              "item_id": 1
            }
          ],
          "base_uri": "https://localhost:8080/",
          "height": 35
        },
        "outputId": "50c9e291-5bbe-404d-fa78-444f1a52f5fc",
        "executionInfo": {
          "status": "ok",
          "timestamp": 1516982023478,
          "user_tz": -60,
          "elapsed": 501,
          "user": {
            "displayName": "Ahmed Ferjani",
            "photoUrl": "//lh6.googleusercontent.com/-pyeEM_6C85I/AAAAAAAAAAI/AAAAAAAAAEs/R0jczjl_27c/s50-c-k-no/photo.jpg",
            "userId": "106742088330707199397"
          }
        }
      },
      "cell_type": "code",
      "source": [
        "data.isnull().sum().sum()"
      ],
      "execution_count": 9,
      "outputs": [
        {
          "output_type": "execute_result",
          "data": {
            "text/plain": [
              "1"
            ]
          },
          "metadata": {
            "tags": []
          },
          "execution_count": 9
        }
      ]
    },
    {
      "metadata": {
        "id": "p2xv8ZbtRFLP",
        "colab_type": "code",
        "colab": {
          "autoexec": {
            "startup": false,
            "wait_interval": 0
          },
          "output_extras": [
            {
              "item_id": 1
            },
            {
              "item_id": 2
            }
          ],
          "base_uri": "https://localhost:8080/",
          "height": 675
        },
        "outputId": "1dbaae5d-a7c5-4b26-fa5d-2d43b3a7d55a",
        "executionInfo": {
          "status": "ok",
          "timestamp": 1516982026055,
          "user_tz": -60,
          "elapsed": 1359,
          "user": {
            "displayName": "Ahmed Ferjani",
            "photoUrl": "//lh6.googleusercontent.com/-pyeEM_6C85I/AAAAAAAAAAI/AAAAAAAAAEs/R0jczjl_27c/s50-c-k-no/photo.jpg",
            "userId": "106742088330707199397"
          }
        }
      },
      "cell_type": "code",
      "source": [
        "print(np.unique(data['department']))\n",
        "print('number of unique department : ', len(np.unique(data['department'])))\n",
        "\n",
        "f, (ax1, ax2) = plt.subplots(2, 1, figsize=(18,10))\n",
        "\n",
        "bins = 50\n",
        "\n",
        "\n",
        "ax1.hist(data.department[data.left == 1], bins = bins)\n",
        "ax1.set_title('Attrition')\n",
        "\n",
        "\n",
        "ax2.hist(data.department[data.left == 0], bins = bins)\n",
        "ax2.set_title('No Attrition')\n",
        "\n",
        "plt.xlabel('Department Name ')\n",
        "plt.ylabel('Number of employee')\n",
        "plt.show()"
      ],
      "execution_count": 10,
      "outputs": [
        {
          "output_type": "stream",
          "text": [
            "['IT' 'RandD' 'accounting' 'hr' 'management' 'marketing' 'product_mng'\n",
            " 'sales' 'support' 'technical']\n",
            "('number of unique department : ', 10)\n"
          ],
          "name": "stdout"
        },
        {
          "output_type": "display_data",
          "data": {
            "image/png": "[encoded data removed]",
            "text/plain": [
              "<matplotlib.figure.Figure at 0x7f08ea649c90>"
            ]
          },
          "metadata": {
            "tags": []
          }
        }
      ]
    },
    {
      "metadata": {
        "id": "utLdJcJaxZdd",
        "colab_type": "code",
        "colab": {
          "autoexec": {
            "startup": false,
            "wait_interval": 0
          },
          "output_extras": [
            {
              "item_id": 1
            },
            {
              "item_id": 2
            }
          ],
          "base_uri": "https://localhost:8080/",
          "height": 313
        },
        "outputId": "e2b9cdb2-4081-4f94-9723-767e3c3a477d",
        "executionInfo": {
          "status": "ok",
          "timestamp": 1516982031716,
          "user_tz": -60,
          "elapsed": 461,
          "user": {
            "displayName": "Ahmed Ferjani",
            "photoUrl": "//lh6.googleusercontent.com/-pyeEM_6C85I/AAAAAAAAAAI/AAAAAAAAAEs/R0jczjl_27c/s50-c-k-no/photo.jpg",
            "userId": "106742088330707199397"
          }
        }
      },
      "cell_type": "code",
      "source": [
        "time_spent = data['time_spent_company'][data['left'] == 1].plot(kind='hist',\n",
        "                                                   x='Time spent in the company', y='Number of employees who stayed',                       \n",
        "                                                   title = 'Frequency of the employees who stayed according to the time they spent in the company')\n",
        "time_spent.set_xlabel('Time spent in the company')\n",
        "time_spent.set_ylabel('Number of employees who stayed')"
      ],
      "execution_count": 11,
      "outputs": [
        {
          "output_type": "execute_result",
          "data": {
            "text/plain": [
              "Text(0,0.5,u'Number of employees who stayed')"
            ]
          },
          "metadata": {
            "tags": []
          },
          "execution_count": 11
        },
        {
          "output_type": "display_data",
          "data": {
            "image/png": "[encoded data removed]",
            "text/plain": [
              "<matplotlib.figure.Figure at 0x7f08ea635b90>"
            ]
          },
          "metadata": {
            "tags": []
          }
        }
      ]
    },
    {
      "metadata": {
        "id": "Zu5UDGZV_OVH",
        "colab_type": "code",
        "colab": {
          "autoexec": {
            "startup": false,
            "wait_interval": 0
          },
          "output_extras": [
            {
              "item_id": 1
            },
            {
              "item_id": 2
            }
          ],
          "base_uri": "https://localhost:8080/",
          "height": 313
        },
        "outputId": "8c0ff6d6-7d20-4777-bc71-d686e3fadae0",
        "executionInfo": {
          "status": "ok",
          "timestamp": 1516982039248,
          "user_tz": -60,
          "elapsed": 549,
          "user": {
            "displayName": "Ahmed Ferjani",
            "photoUrl": "//lh6.googleusercontent.com/-pyeEM_6C85I/AAAAAAAAAAI/AAAAAAAAAEs/R0jczjl_27c/s50-c-k-no/photo.jpg",
            "userId": "106742088330707199397"
          }
        }
      },
      "cell_type": "code",
      "source": [
        "time_spent = data['time_spent_company'][data['left'] == 0].plot(kind='hist', \n",
        "                                                                title = 'Frequency of the employees who left according to the time they spent in the company')\n",
        "time_spent.set_xlabel('Time spent in the company')\n",
        "time_spent.set_ylabel('Number of employees who left')"
      ],
      "execution_count": 12,
      "outputs": [
        {
          "output_type": "execute_result",
          "data": {
            "text/plain": [
              "Text(0,0.5,u'Number of employees who left')"
            ]
          },
          "metadata": {
            "tags": []
          },
          "execution_count": 12
        },
        {
          "output_type": "display_data",
          "data": {
            "image/png": "[encoded data removed]",
            "text/plain": [
              "<matplotlib.figure.Figure at 0x7f08ea519710>"
            ]
          },
          "metadata": {
            "tags": []
          }
        }
      ]
    },
    {
      "metadata": {
        "id": "JplmUZ6FRDWj",
        "colab_type": "code",
        "colab": {
          "autoexec": {
            "startup": false,
            "wait_interval": 0
          }
        }
      },
      "cell_type": "code",
      "source": [
        "data = data.fillna('')"
      ],
      "execution_count": 0,
      "outputs": []
    },
    {
      "metadata": {
        "id": "_ucG0iqbWKVK",
        "colab_type": "code",
        "colab": {
          "autoexec": {
            "startup": false,
            "wait_interval": 0
          },
          "output_extras": [
            {
              "item_id": 1
            },
            {
              "item_id": 2
            }
          ],
          "base_uri": "https://localhost:8080/",
          "height": 657
        },
        "outputId": "179a25f3-34bd-41bf-e3bc-a30557fa802c",
        "executionInfo": {
          "status": "ok",
          "timestamp": 1516982053421,
          "user_tz": -60,
          "elapsed": 1004,
          "user": {
            "displayName": "Ahmed Ferjani",
            "photoUrl": "//lh6.googleusercontent.com/-pyeEM_6C85I/AAAAAAAAAAI/AAAAAAAAAEs/R0jczjl_27c/s50-c-k-no/photo.jpg",
            "userId": "106742088330707199397"
          }
        }
      },
      "cell_type": "code",
      "source": [
        "print(np.unique(data['salary']))\n",
        "print('Class of salaries : ', len(np.unique(data['salary'])))\n",
        "\n",
        "\n",
        "f, (ax1, ax2) = plt.subplots(2, 1, figsize=(18,10))\n",
        "\n",
        "bins = 20\n",
        "\n",
        "\n",
        "ax1.hist(data.salary[data.left == 1], bins = bins)\n",
        "ax1.set_title('Attrition')\n",
        "\n",
        "ax2.hist(data.salary[data.left == 0], bins = bins)\n",
        "ax2.set_title('No Attrition')\n",
        "\n",
        "plt.xlabel('Class of Salary ')\n",
        "plt.ylabel('Number of employee')\n",
        "plt.show()"
      ],
      "execution_count": 14,
      "outputs": [
        {
          "output_type": "stream",
          "text": [
            "['high' 'low' 'medium']\n",
            "('Class of salaries : ', 3)\n"
          ],
          "name": "stdout"
        },
        {
          "output_type": "display_data",
          "data": {
            "image/png": "[encoded data removed]",
            "text/plain": [
              "<matplotlib.figure.Figure at 0x7f08e82dab50>"
            ]
          },
          "metadata": {
            "tags": []
          }
        }
      ]
    },
    {
      "metadata": {
        "id": "29kooO_OZrt2",
        "colab_type": "text"
      },
      "cell_type": "markdown",
      "source": [
        "**Study Corrolation between features ** "
      ]
    },
    {
      "metadata": {
        "id": "Bl7Cia6pZpff",
        "colab_type": "code",
        "colab": {
          "autoexec": {
            "startup": false,
            "wait_interval": 0
          },
          "output_extras": [
            {
              "item_id": 1
            },
            {
              "item_id": 2
            }
          ],
          "base_uri": "https://localhost:8080/",
          "height": 381
        },
        "outputId": "e299d96d-e0b4-4b48-8763-8a3ba87cfefb",
        "executionInfo": {
          "status": "ok",
          "timestamp": 1516982075631,
          "user_tz": -60,
          "elapsed": 802,
          "user": {
            "displayName": "Ahmed Ferjani",
            "photoUrl": "//lh6.googleusercontent.com/-pyeEM_6C85I/AAAAAAAAAAI/AAAAAAAAAEs/R0jczjl_27c/s50-c-k-no/photo.jpg",
            "userId": "106742088330707199397"
          }
        }
      },
      "cell_type": "code",
      "source": [
        "import seaborn as sns\n",
        "sns.set(style=\"white\")\n",
        "\n",
        "# Compute the correlation matrix\n",
        "corr = data.corr()\n",
        "\n",
        "# Generate a mask for the upper triangle\n",
        "mask = np.zeros_like(corr, dtype=np.bool)\n",
        "mask[np.triu_indices_from(mask)] = True\n",
        "\n",
        "# Set up the matplotlib figure\n",
        "f, ax = plt.subplots(figsize=(5, 4))\n",
        "\n",
        "# Generate a custom diverging colormap\n",
        "cmap = sns.diverging_palette(10, 220, as_cmap=True)\n",
        "\n",
        "# Draw the heatmap with the mask and correct aspect ratio\n",
        "sns.heatmap(corr, mask=mask, cmap=cmap, vmax=.5,\n",
        "            square=True, xticklabels=True, yticklabels=True,\n",
        "            linewidths=.5, cbar_kws={\"shrink\": .5}, ax=ax)"
      ],
      "execution_count": 15,
      "outputs": [
        {
          "output_type": "execute_result",
          "data": {
            "text/plain": [
              "<matplotlib.axes._subplots.AxesSubplot at 0x7f08e8298750>"
            ]
          },
          "metadata": {
            "tags": []
          },
          "execution_count": 15
        },
        {
          "output_type": "display_data",
          "data": {
            "image/png": "[encoded data removed]",
            "text/plain": [
              "<matplotlib.figure.Figure at 0x7f090e4292d0>"
            ]
          },
          "metadata": {
            "tags": []
          }
        }
      ]
    },
    {
      "metadata": {
        "id": "tt0W2PZZaEsQ",
        "colab_type": "text"
      },
      "cell_type": "markdown",
      "source": [
        "** The variable \"left\" is highly correlated to the feature \"satisfaction_level\" and \"work_accident\" **\n",
        "\n"
      ]
    },
    {
      "metadata": {
        "id": "Y_tA2T9AaKP0",
        "colab_type": "code",
        "colab": {
          "autoexec": {
            "startup": false,
            "wait_interval": 0
          },
          "output_extras": [
            {
              "item_id": 1
            }
          ],
          "base_uri": "https://localhost:8080/",
          "height": 179
        },
        "outputId": "acefa90b-08d8-48a8-b066-d013b4678b56",
        "executionInfo": {
          "status": "ok",
          "timestamp": 1516982079716,
          "user_tz": -60,
          "elapsed": 431,
          "user": {
            "displayName": "Ahmed Ferjani",
            "photoUrl": "//lh6.googleusercontent.com/-pyeEM_6C85I/AAAAAAAAAAI/AAAAAAAAAEs/R0jczjl_27c/s50-c-k-no/photo.jpg",
            "userId": "106742088330707199397"
          }
        }
      },
      "cell_type": "code",
      "source": [
        "data['satisfaction_level'].describe()"
      ],
      "execution_count": 16,
      "outputs": [
        {
          "output_type": "execute_result",
          "data": {
            "text/plain": [
              "count    14999.000000\n",
              "mean         0.612834\n",
              "std          0.248631\n",
              "min          0.090000\n",
              "25%          0.440000\n",
              "50%          0.640000\n",
              "75%          0.820000\n",
              "max          1.000000\n",
              "Name: satisfaction_level, dtype: float64"
            ]
          },
          "metadata": {
            "tags": []
          },
          "execution_count": 16
        }
      ]
    },
    {
      "metadata": {
        "id": "gTFVWWoiRPLI",
        "colab_type": "code",
        "colab": {
          "autoexec": {
            "startup": false,
            "wait_interval": 0
          },
          "output_extras": [
            {
              "item_id": 1
            }
          ],
          "base_uri": "https://localhost:8080/",
          "height": 348
        },
        "outputId": "7e51962d-8164-4d8b-8834-1960094ca4fe",
        "executionInfo": {
          "status": "ok",
          "timestamp": 1516982083055,
          "user_tz": -60,
          "elapsed": 768,
          "user": {
            "displayName": "Ahmed Ferjani",
            "photoUrl": "//lh6.googleusercontent.com/-pyeEM_6C85I/AAAAAAAAAAI/AAAAAAAAAEs/R0jczjl_27c/s50-c-k-no/photo.jpg",
            "userId": "106742088330707199397"
          }
        }
      },
      "cell_type": "code",
      "source": [
        "mean_satisfaction = data['satisfaction_level'].mean()\n",
        "\n",
        "data.groupby('left')['satisfaction_level'].apply(lambda x: (x <= mean_satisfaction).sum()).plot.bar(\n",
        "    x='left', y='count', \\\n",
        "    figsize=(10, 5), fontsize=15, title = 'Employees Attrition given a satisfaction level <= mean_satisfaction');"
      ],
      "execution_count": 17,
      "outputs": [
        {
          "output_type": "display_data",
          "data": {
            "image/png": "[encoded data removed]",
            "text/plain": [
              "<matplotlib.figure.Figure at 0x7f08e8071250>"
            ]
          },
          "metadata": {
            "tags": []
          }
        }
      ]
    },
    {
      "metadata": {
        "id": "zQnIE5GoRQ9j",
        "colab_type": "code",
        "colab": {
          "autoexec": {
            "startup": false,
            "wait_interval": 0
          },
          "output_extras": [
            {
              "item_id": 1
            }
          ],
          "base_uri": "https://localhost:8080/",
          "height": 348
        },
        "outputId": "e9a08e14-3485-4b28-ca9c-637c1d39350a",
        "executionInfo": {
          "status": "ok",
          "timestamp": 1516982086317,
          "user_tz": -60,
          "elapsed": 479,
          "user": {
            "displayName": "Ahmed Ferjani",
            "photoUrl": "//lh6.googleusercontent.com/-pyeEM_6C85I/AAAAAAAAAAI/AAAAAAAAAEs/R0jczjl_27c/s50-c-k-no/photo.jpg",
            "userId": "106742088330707199397"
          }
        }
      },
      "cell_type": "code",
      "source": [
        "data.groupby('left')['satisfaction_level'].apply(lambda x: (x > mean_satisfaction ).sum()).plot.bar(\n",
        "    x='left', y='count', \\\n",
        "    figsize=(10, 5), fontsize=15, title = 'Employees Attrition given a satisfaction level > mean_satisfaction');"
      ],
      "execution_count": 18,
      "outputs": [
        {
          "output_type": "display_data",
          "data": {
            "image/png": "[encoded data removed]",
            "text/plain": [
              "<matplotlib.figure.Figure at 0x7f08e800d250>"
            ]
          },
          "metadata": {
            "tags": []
          }
        }
      ]
    },
    {
      "metadata": {
        "id": "SPyKM8dqLUtl",
        "colab_type": "code",
        "colab": {
          "autoexec": {
            "startup": false,
            "wait_interval": 0
          },
          "output_extras": [
            {
              "item_id": 1
            },
            {
              "item_id": 2
            }
          ],
          "base_uri": "https://localhost:8080/",
          "height": 381
        },
        "outputId": "49dcac5b-81ec-4554-d4b4-b1a5022ad58c",
        "executionInfo": {
          "status": "ok",
          "timestamp": 1516982090858,
          "user_tz": -60,
          "elapsed": 892,
          "user": {
            "displayName": "Ahmed Ferjani",
            "photoUrl": "//lh6.googleusercontent.com/-pyeEM_6C85I/AAAAAAAAAAI/AAAAAAAAAEs/R0jczjl_27c/s50-c-k-no/photo.jpg",
            "userId": "106742088330707199397"
          }
        }
      },
      "cell_type": "code",
      "source": [
        "## plotting daigonal matrix corrolation \n",
        "#filter out people with a good last evaluation\n",
        "\n",
        "mean_satisfaction = data['satisfaction_level'].mean()\n",
        "satisfied_employees = data[data['satisfaction_level'] > mean_satisfaction]\n",
        "\n",
        "sns.set(style=\"white\")\n",
        "\n",
        "# Compute the correlation matrix\n",
        "corr = satisfied_employees.corr()\n",
        "\n",
        "# Generate a mask for the upper triangle\n",
        "mask = np.zeros_like(corr, dtype=np.bool)\n",
        "mask[np.triu_indices_from(mask)] = True\n",
        "\n",
        "# Set up the matplotlib figure\n",
        "f, ax = plt.subplots(figsize=(5, 4))\n",
        "\n",
        "# Generate a custom diverging colormap\n",
        "cmap = sns.diverging_palette(10, 220, as_cmap=True)\n",
        "\n",
        "# Draw the heatmap with the mask and correct aspect ratio\n",
        "sns.heatmap(corr, mask=mask, cmap=cmap, vmax=.5,\n",
        "            square=True, xticklabels=True, yticklabels=True,\n",
        "            linewidths=.5, cbar_kws={\"shrink\": .5}, ax=ax)"
      ],
      "execution_count": 19,
      "outputs": [
        {
          "output_type": "execute_result",
          "data": {
            "text/plain": [
              "<matplotlib.axes._subplots.AxesSubplot at 0x7f08e7f7df90>"
            ]
          },
          "metadata": {
            "tags": []
          },
          "execution_count": 19
        },
        {
          "output_type": "display_data",
          "data": {
            "image/png": "[encoded data removed]",
            "text/plain": [
              "<matplotlib.figure.Figure at 0x7f08e8018f10>"
            ]
          },
          "metadata": {
            "tags": []
          }
        }
      ]
    },
    {
      "metadata": {
        "id": "oYtLXLB5eO3t",
        "colab_type": "code",
        "colab": {
          "autoexec": {
            "startup": false,
            "wait_interval": 0
          },
          "output_extras": [
            {
              "item_id": 1
            },
            {
              "item_id": 2
            }
          ],
          "base_uri": "https://localhost:8080/",
          "height": 639
        },
        "outputId": "0c194c11-2401-4742-8d66-8ff2dc8c29dd",
        "executionInfo": {
          "status": "ok",
          "timestamp": 1516982094429,
          "user_tz": -60,
          "elapsed": 722,
          "user": {
            "displayName": "Ahmed Ferjani",
            "photoUrl": "//lh6.googleusercontent.com/-pyeEM_6C85I/AAAAAAAAAAI/AAAAAAAAAEs/R0jczjl_27c/s50-c-k-no/photo.jpg",
            "userId": "106742088330707199397"
          }
        }
      },
      "cell_type": "code",
      "source": [
        "f, (ax1, ax2) = plt.subplots(2, 1, figsize=(18,10))\n",
        "\n",
        "bins = 20\n",
        "                            \n",
        "ax1.hist(data.left[data.work_accident == 1], bins = bins)\n",
        "ax1.set_title('Attrition')\n",
        "\n",
        "ax2.hist(data.left[data.work_accident == 0], bins = bins)\n",
        "ax2.set_title('No Attrition')\n",
        "\n",
        "plt.xlabel('work accident')\n",
        "plt.ylabel('Number of employee')"
      ],
      "execution_count": 20,
      "outputs": [
        {
          "output_type": "execute_result",
          "data": {
            "text/plain": [
              "Text(0,0.5,u'Number of employee')"
            ]
          },
          "metadata": {
            "tags": []
          },
          "execution_count": 20
        },
        {
          "output_type": "display_data",
          "data": {
            "image/png": "[encoded data removed]",
            "text/plain": [
              "<matplotlib.figure.Figure at 0x7f08e7e78250>"
            ]
          },
          "metadata": {
            "tags": []
          }
        }
      ]
    },
    {
      "metadata": {
        "id": "yHsxXG_Whf-3",
        "colab_type": "code",
        "colab": {
          "autoexec": {
            "startup": false,
            "wait_interval": 0
          },
          "output_extras": [
            {
              "item_id": 1
            }
          ],
          "base_uri": "https://localhost:8080/",
          "height": 427
        },
        "outputId": "c63e6e28-2b44-4902-ab18-35c49324fa2f",
        "executionInfo": {
          "status": "ok",
          "timestamp": 1516982098181,
          "user_tz": -60,
          "elapsed": 671,
          "user": {
            "displayName": "Ahmed Ferjani",
            "photoUrl": "//lh6.googleusercontent.com/-pyeEM_6C85I/AAAAAAAAAAI/AAAAAAAAAEs/R0jczjl_27c/s50-c-k-no/photo.jpg",
            "userId": "106742088330707199397"
          }
        }
      },
      "cell_type": "code",
      "source": [
        "data.groupby('left')['work_accident'].apply(lambda x: (x == 1.0 ).sum()).plot.pie(labels = ['Attrition', 'No Attrition'],\n",
        "    figsize=(10, 7), fontsize=15, title = 'Number of employees that left or not the company after an accident ');"
      ],
      "execution_count": 21,
      "outputs": [
        {
          "output_type": "display_data",
          "data": {
            "image/png": "[encoded data removed]",
            "text/plain": [
              "<matplotlib.figure.Figure at 0x7f08e83b7a10>"
            ]
          },
          "metadata": {
            "tags": []
          }
        }
      ]
    },
    {
      "metadata": {
        "id": "ZBL0QeGl_ToY",
        "colab_type": "text"
      },
      "cell_type": "markdown",
      "source": [
        "**Study the mutual information criterion** (measure the corrolation between features : find features that are the most corrolated to the target \"left\") "
      ]
    },
    {
      "metadata": {
        "id": "ft_9Nlng_ABj",
        "colab_type": "code",
        "colab": {
          "autoexec": {
            "startup": false,
            "wait_interval": 0
          }
        }
      },
      "cell_type": "code",
      "source": [
        "from sklearn.feature_selection import mutual_info_classif\n",
        "df_left = np.array(data.left)\n",
        "data.department = pd.factorize(data.department)[0]\n",
        "data.name = pd.factorize(data.name)[0]\n",
        "data_bis = data.drop(columns= ['left', 'salary'])\n",
        "mi = mutual_info_classif(data_bis, df_left)"
      ],
      "execution_count": 0,
      "outputs": []
    },
    {
      "metadata": {
        "id": "fihkErSh_BWF",
        "colab_type": "code",
        "colab": {
          "autoexec": {
            "startup": false,
            "wait_interval": 0
          },
          "output_extras": [
            {
              "item_id": 1
            },
            {
              "item_id": 2
            },
            {
              "item_id": 3
            }
          ],
          "base_uri": "https://localhost:8080/",
          "height": 375
        },
        "outputId": "84e7ba27-19ce-4817-cf81-6f7aa9f9b83c",
        "executionInfo": {
          "status": "ok",
          "timestamp": 1516982106098,
          "user_tz": -60,
          "elapsed": 733,
          "user": {
            "displayName": "Ahmed Ferjani",
            "photoUrl": "//lh6.googleusercontent.com/-pyeEM_6C85I/AAAAAAAAAAI/AAAAAAAAAEs/R0jczjl_27c/s50-c-k-no/photo.jpg",
            "userId": "106742088330707199397"
          }
        }
      },
      "cell_type": "code",
      "source": [
        "mi_df = pd.DataFrame({'col1':data_bis.columns,'col2':mi})\n",
        "mi_df = mi_df.sort_index(by='col2', ascending=True)\n",
        "mi_df.plot.barh(x='col1', y='col2', figsize=(10, 5), fontsize=10)"
      ],
      "execution_count": 23,
      "outputs": [
        {
          "output_type": "stream",
          "text": [
            "/usr/local/lib/python2.7/dist-packages/ipykernel_launcher.py:2: FutureWarning: by argument to sort_index is deprecated, please use .sort_values(by=...)\n",
            "  \n"
          ],
          "name": "stderr"
        },
        {
          "output_type": "execute_result",
          "data": {
            "text/plain": [
              "<matplotlib.axes._subplots.AxesSubplot at 0x7f08ea477590>"
            ]
          },
          "metadata": {
            "tags": []
          },
          "execution_count": 23
        },
        {
          "output_type": "display_data",
          "data": {
            "image/png": "[encoded data removed]",
            "text/plain": [
              "<matplotlib.figure.Figure at 0x7f08ea477b90>"
            ]
          },
          "metadata": {
            "tags": []
          }
        }
      ]
    },
    {
      "metadata": {
        "id": "bkjx_nhhPQqh",
        "colab_type": "text"
      },
      "cell_type": "markdown",
      "source": [
        "Data Preprocessing"
      ]
    },
    {
      "metadata": {
        "id": "CyBTXTC4i-lT",
        "colab_type": "code",
        "colab": {
          "autoexec": {
            "startup": false,
            "wait_interval": 0
          }
        }
      },
      "cell_type": "code",
      "source": [
        "import numpy as np\n",
        "import pandas as pd\n",
        "from sklearn import preprocessing\n",
        "from sklearn.ensemble import ExtraTreesClassifier\n",
        "from sklearn.decomposition import PCA\n",
        "\n",
        "\n",
        "def factorize_catog_var(df):\n",
        "  \n",
        "  df['department'] = pd.factorize(df.department)[0]\n",
        "  df['salary'] = pd.factorize(df.salary)[0]\n",
        "  return(df)\n",
        "\n",
        "def dumm(df):\n",
        "  \n",
        "  \n",
        "    datanew = pd.get_dummies(df['department'])\n",
        "    df = df.drop('department', axis=1)\n",
        "    df = df.join(datanew)\n",
        "    #add dummy variable\n",
        "    df = data.join(datanew)\n",
        "    \n",
        "    dum_sal = pd.get_dummies(df['salary'])\n",
        "    df = df.drop('salary', axis=1)\n",
        "    df = df.join(dum_sal)\n",
        "    df = data.join(dum_sal)\n",
        "    return (df)\n",
        "\n",
        "\n",
        "\n",
        "def scale(df):\n",
        "    return(preprocessing.scale(df))\n",
        "\n",
        "def scale_trans(df_train, df_test):\n",
        "    scaler = preprocessing.StandardScaler().fit(df_train)\n",
        "    return( scaler.transform(df_test))\n",
        "  \n",
        "\n",
        "# Feature Extraction with LDA\n",
        "\n",
        "\n",
        "\n",
        "  \n",
        "# Feature Extraction with PCA\n",
        "\n",
        "def pca_fit(df):\n",
        "  '''the numbuer of components may be found \n",
        "     using a grid search \n",
        "     for example we took 3'''\n",
        "  \n",
        "  pca = PCA(n_components=3)\n",
        "  return (pca.fit(X))\n",
        "\n",
        "\n",
        "# Feature Importance with Extra Trees Classifier\n",
        "# which are the best features to  best classifiy\n",
        "\n",
        "def feature_importance (X,y):\n",
        "  \n",
        "  '''You can see that we are given an importance score \n",
        "     for each attribute where the larger score the more \n",
        "     important the attribute. '''\n",
        "  \n",
        "  model = ExtraTreesClassifier()\n",
        "  model.fit(X, Y)\n",
        "  print(model.feature_importances_)\n",
        "  return(model.feature_importances_)\n",
        "\n",
        "\n",
        "\n",
        "\n",
        "def feature_importance_extractor (X,y,n):\n",
        "  \n",
        "  ''' Select the most n influencial features'''\n",
        "  \n",
        "  L = feature_importance (X,y)\n",
        "  L = np.asarray(l)\n",
        "  flat = ary.flatten()\n",
        "  indices = np.argpartition(flat, -n)[-n:]\n",
        "  indices = indices[np.argsort(-flat[indices])]\n",
        "  # return a new data frame with\n",
        "  # only n most important features\n",
        "  \n",
        "  return (X.iloc[:,indices])\n"
      ],
      "execution_count": 0,
      "outputs": []
    },
    {
      "metadata": {
        "id": "RXa3xLNgPl5R",
        "colab_type": "code",
        "colab": {
          "autoexec": {
            "startup": false,
            "wait_interval": 0
          }
        }
      },
      "cell_type": "code",
      "source": [
        ""
      ],
      "execution_count": 0,
      "outputs": []
    }
  ]
}